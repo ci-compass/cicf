{
  "cells": [
    {
      "cell_type": "markdown",
      "metadata": {},
      "source": [
        "# A Quick Tour of Python\n",
        "\n",
        "In this notebook, we'll look at some of the language features of\n",
        "python and how to use them.  Some prior programming experience might\n",
        "be useful here, with Java, Javascript, C, C++, or Python.\n",
        "\n",
        "In the [previous notebook](./1-introduction.ipynb), we ran a print\n",
        "statement and did some basic arithmetic, and that was our first steps\n",
        "with running some Python code in Jupyter.\n",
        "\n",
        "## A note about the REPL\n",
        "\n",
        "You would be able to run the code examples in this notebook right here\n",
        "in the notebook itself.  There's another way to quickly try out code,\n",
        "even if you are not running a notebook: you can use Python's shell, or\n",
        "REPL (or \"Read-Eval-Print Loop\").\n",
        "\n",
        "In your virtual machine's terminal, you can run the command `python3`,\n",
        "and you can enter code in the resulting prompt.\n",
        "\n",
        "![](./slides/img/repl-hello.png)\n",
        "\n",
        "You can also launch a terminal from Jupyter's menu (File -> New ->\n",
        "Terminal), and run `python3` command there.\n",
        "\n",
        "You do not have to use the REPL right now, but its existence and use\n",
        "is a basic thing that would be useful to know.  It should be part of\n",
        "any tour of Python.\n",
        "\n",
        "Now let us look at some Python code examples.\n",
        "\n",
        "## A few examples\n",
        "\n",
        "Click in the next cell with the example code and press `Shift+Enter`\n",
        "keys to run it."
      ]
    },
    {
      "cell_type": "code",
      "metadata": {},
      "source": [
        "prius_weight = 4000\n",
        "battery_weight = 150\n",
        "just_the_normal_car_weight = prius_weight - battery_weight\n",
        "\n",
        "print (\"If you took the battery out of a Prius it would weigh\", just_the_normal_car_weight, \"pounds.\")"
      ],
      "execution_count": null,
      "outputs": []
    },
    {
      "cell_type": "markdown",
      "metadata": {},
      "source": [
        "It should be obvious what the code above does.  Python has all the\n",
        "usual arithmetic \"operators\" you would expect:"
      ]
    },
    {
      "cell_type": "code",
      "metadata": {},
      "source": [
        "sum = 4 + 2\n",
        "difference = 4 - 2\n",
        "product = 4 * 2\n",
        "thingie = 9 / 3\n",
        "\n",
        "print(sum, difference, product, thingie)"
      ],
      "execution_count": null,
      "outputs": []
    },
    {
      "cell_type": "markdown",
      "metadata": {},
      "source": [
        "There are also some other operators:"
      ]
    },
    {
      "cell_type": "code",
      "metadata": {},
      "source": [
        "integer_division = 7 // 2\n",
        "remainder = 7 % 2\n",
        "big_number  = 9 ** 25\n",
        "\n",
        "print(integer_division, remainder, big_number)"
      ],
      "execution_count": null,
      "outputs": []
    },
    {
      "cell_type": "markdown",
      "metadata": {},
      "source": [
        "The `//` operator (two slashes next to each other) mean \"divide this\n",
        "and ignore the remainder\". The `%` operator means \"divide this and\n",
        "**only** give us the remainder.  Finally, two asterices mean \"evaluate\n",
        "the left side raised to the right side's power\".\n",
        "\n",
        "The standard order of operations that we learned in school still\n",
        "applies here. Exponentiation is done first, then the multiplications\n",
        "and divisions, and then finally the additions and subtractions.\n",
        "\n",
        "Within the same level, operators are evaluated left-to-right:"
      ]
    },
    {
      "cell_type": "code",
      "metadata": {},
      "source": [
        "print(8 - 5 + 3)"
      ],
      "execution_count": null,
      "outputs": []
    },
    {
      "cell_type": "markdown",
      "metadata": {},
      "source": [
        "There is an exception, though. Exponentiation is done right-to-left:"
      ]
    },
    {
      "cell_type": "code",
      "metadata": {},
      "source": [
        "print(2 ** 3 ** 4)\n",
        "print(2 ** 81)"
      ],
      "execution_count": null,
      "outputs": []
    },
    {
      "cell_type": "markdown",
      "metadata": {},
      "source": [
        "Notice how big those numbers are?  Python (at least, all modern\n",
        "versions) represent integers with 64 bits. This will hold numbers from\n",
        "positive to negative 9 billion billon, give or take a little. If you\n",
        "want to count the atoms in a micromole, knock yourself out.\n",
        "\n",
        "Parentheses work as expected for explicitly forcing a particular order\n",
        "of operations:"
      ]
    },
    {
      "cell_type": "code",
      "metadata": {},
      "source": [
        "test_1 = 92\n",
        "test_2 = 90\n",
        "test_average = (test_1 + test_2) / 2\n",
        "print(test_average)"
      ],
      "execution_count": null,
      "outputs": []
    },
    {
      "cell_type": "markdown",
      "metadata": {},
      "source": [
        "## Some shortcut operators\n",
        "\n",
        "Python has a shortcut for using the value of variable, changing it,\n",
        "and storing it back in the same variable.  So the code in both the\n",
        "below cells do the same thing:"
      ]
    },
    {
      "cell_type": "code",
      "metadata": {},
      "source": [
        "weight = 6\n",
        "weight = weight + 4\n",
        "print(weight)"
      ],
      "execution_count": null,
      "outputs": []
    },
    {
      "cell_type": "code",
      "metadata": {},
      "source": [
        "weight = 6\n",
        "weight += 4\n",
        "print(weight)"
      ],
      "execution_count": null,
      "outputs": []
    },
    {
      "cell_type": "markdown",
      "metadata": {},
      "source": [
        "Along with the `+=` operator, there is also `-=`, `*=`, and `/=`.\n",
        "\n",
        "## The `print()` function\n",
        "\n",
        "We've been throwing those `print()` function calls around without\n",
        "talking about them. \n",
        "\n",
        "The `print()` function will take any number of arguments, separated by\n",
        "commas, and print them out with one space between them. After the last\n",
        "item is printed, Python will put out a \"newline\" character, go to the\n",
        "next line, and get ready to start printing at the beginning of the\n",
        "next line.\n",
        "\n",
        "## Variables\n",
        "\n",
        "Variables give names to things. We've seen variables used as integers\n",
        "and as floating point numbers.  Variables can also refer to strings.\n",
        "\n",
        "Unlike Java or C++, the are not \"strongly\" typed.  A variable can be a\n",
        "number one moment and then can suddenly become a string.  You don't\n",
        "have to declare types of variables either."
      ]
    },
    {
      "cell_type": "code",
      "metadata": {},
      "source": [
        "amount = 7\n",
        "print(amount)\n",
        "amount = \"a whole lot!\"\n",
        "print(amount)"
      ],
      "execution_count": null,
      "outputs": []
    },
    {
      "cell_type": "markdown",
      "metadata": {},
      "source": [
        "Variables in Python work similarly to Javascript, if you're familiar\n",
        "with that language.\n",
        "\n",
        "## Basic data types\n",
        "\n",
        "Python has these basic data types:\n",
        "\n",
        "- Booleans, which are `True` or `False` values.\n",
        "- Numbers, which can be:\n",
        "  - Integers (example: `-1`, `0`, `1`, `2`, …)\n",
        "  - Floating point numbers (example: `3.14`)\n",
        "  - Complex numbers (example: `3+4j`)\n",
        "- Strings (example: `\"hello world!\"`)\n",
        "- `None`, which is a special constant that indicates the absence of a\n",
        "  value. `None` is the equivalent of `null` in some other\n",
        "  languages. When you call a function and it returns nothing, you will\n",
        "  get a `None`, for example.\n",
        "\n",
        "There also [decimal] numbers and [fractions], should you ever need\n",
        "them.  You can take a look at Python's [Numeric and Mathematical\n",
        "Modules][numeric] if you are curious what else is available.\n",
        "\n",
        "[decimal]: https://docs.python.org/3/library/decimal.html\n",
        "[fractions]: https://docs.python.org/3/library/fractions.html\n",
        "[numeric]: https://docs.python.org/3/library/numeric.html\n",
        "\n",
        "We will discuss modules later.  For now, just bear in mind that: (1) a\n",
        "\"module\" is some code that you can use when writing your own code, and\n",
        "(2) Python has a standard library, which is a collection of useful and\n",
        "commonly used modules.  You will use the standard library a lot if you\n",
        "use Python.\n",
        "\n",
        "### Strings\n",
        "\n",
        "Strings can be surrounded by single quotes (`'`) or double quotes\n",
        "(`\"`). Whichever one you start a string with, you have to end with\n",
        "that same kind, and it does not matter which kind of quote you use:\n",
        "`'hello'` and `\"hello\"` are the same."
      ]
    },
    {
      "cell_type": "code",
      "metadata": {},
      "source": [
        "'hello' == \"hello\""
      ],
      "execution_count": null,
      "outputs": []
    },
    {
      "cell_type": "markdown",
      "metadata": {},
      "source": [
        "Note that you can't mix the types of quotes when declaring a string.\n",
        "Running the below code cell will result in an error:"
      ]
    },
    {
      "cell_type": "code",
      "metadata": {},
      "source": [
        "'hello\""
      ],
      "execution_count": null,
      "outputs": []
    },
    {
      "cell_type": "markdown",
      "metadata": {},
      "source": [
        "Regardless of the type of quote you use, it would be a good idea to\n",
        "use one type of quotes consistently across a program or project.\n",
        "\n",
        "## Built-in data structures\n",
        "\n",
        "Some data structures are immediately available to you in the core\n",
        "language:\n",
        "\n",
        "- Lists \n",
        "- Dictionaries\n",
        "- Tuples\n",
        "- Sets\n",
        "\n",
        "### Lists\n",
        "\n",
        "Here is an example of a list:"
      ]
    },
    {
      "cell_type": "code",
      "metadata": {},
      "source": [
        "temperatures = [44.2, 43.6, 107.9, \"awfully hot!\"]"
      ],
      "execution_count": null,
      "outputs": []
    },
    {
      "cell_type": "markdown",
      "metadata": {},
      "source": [
        "You write the elements of the list inside square brackets (`[` and\n",
        "`]`), with commas to separate them.\n",
        "\n",
        "Python lists are like arrays in C++ and Java, except:\n",
        "\n",
        "- Python lists can grow (and shrink) as needed.\n",
        "- The different elements of an array do not all have to be the same\n",
        "  type.\n",
        "  \n",
        "Here's another example:"
      ]
    },
    {
      "cell_type": "code",
      "metadata": {},
      "source": [
        "grades = [\"A\", \"B\", \"C\", \"D\", \"F\"]\n",
        "print(len(grades))\n",
        "\n",
        "print(grades[0])\n",
        "print(grades[1])\n",
        "print(grades[2])\n",
        "print(grades[3])\n",
        "print(grades[4])"
      ],
      "execution_count": null,
      "outputs": []
    },
    {
      "cell_type": "markdown",
      "metadata": {},
      "source": [
        "Notice the first element in a list is numbered 0 (zero).  Any time you\n",
        "index into a list, Python always counts starting at 0,\n",
        "not 1. Forgetting this fact will likely be a big source of mistakes.\n",
        "\n",
        "You can also loop over lists using a `for` statement (we will discuss\n",
        "`for` statements later in this notebook):"
      ]
    },
    {
      "cell_type": "code",
      "metadata": {},
      "source": [
        "for grade in grades:\n",
        "    print(grade)"
      ],
      "execution_count": null,
      "outputs": []
    },
    {
      "cell_type": "markdown",
      "metadata": {},
      "source": [
        "If you try to read past a list, that would result in an error. Try\n",
        "running the below cell:"
      ]
    },
    {
      "cell_type": "code",
      "metadata": {},
      "source": [
        "grades[5]"
      ],
      "execution_count": null,
      "outputs": []
    },
    {
      "cell_type": "markdown",
      "metadata": {},
      "source": [
        "Lists are one-dimensional. If you would normally use a 2D array for\n",
        "something, you would want to use a list of lists:"
      ]
    },
    {
      "cell_type": "code",
      "metadata": {},
      "source": [
        "list_of_lists = [\n",
        "    [1, 2, 3],\n",
        "    [],\n",
        "    [4, 5, 6]\n",
        "]\n",
        "print(list_of_lists[1])"
      ],
      "execution_count": null,
      "outputs": []
    },
    {
      "cell_type": "markdown",
      "metadata": {},
      "source": [
        "`[]` is an empty list, obviously.\n",
        "\n",
        "\n",
        "### Dictionaries\n",
        "\n",
        "Dictionaries (or `dict` objects in Python parlance) contain pairs of\n",
        "keys and values.  You will use them when you want to look up items by\n",
        "a key whose value you already know."
      ]
    },
    {
      "cell_type": "code",
      "metadata": {},
      "source": [
        "drugs = { \n",
        "   \"asprin\": 325, \n",
        "   \"acetaminophen\": 500 \n",
        "}\n",
        "print(drugs[\"asprin\"])\n",
        "print(drugs[\"acetaminophen\"])"
      ],
      "execution_count": null,
      "outputs": []
    },
    {
      "cell_type": "markdown",
      "metadata": {},
      "source": [
        "If you try to look up by a key that does not exist, that would result\n",
        "in an error:"
      ]
    },
    {
      "cell_type": "code",
      "metadata": {},
      "source": [
        "drugs[\"ibuprofen\"]"
      ],
      "execution_count": null,
      "outputs": []
    },
    {
      "cell_type": "markdown",
      "metadata": {},
      "source": [
        "In order to avoid the error, you can do something like this:"
      ]
    },
    {
      "cell_type": "code",
      "metadata": {},
      "source": [
        "value = drugs.get(\"ibuprofen\")\n",
        "if value != None:\n",
        "    print(\"Found ibuprofen:\", value)\n",
        "else:\n",
        "    print(\"Could not find ibuprofen\")"
      ],
      "execution_count": null,
      "outputs": []
    },
    {
      "cell_type": "markdown",
      "metadata": {},
      "source": [
        "You can add new keys and values to an existing dictionary:"
      ]
    },
    {
      "cell_type": "code",
      "metadata": {},
      "source": [
        "drugs[\"methotrexate\"] = 2.5\n",
        "print(drugs)"
      ],
      "execution_count": null,
      "outputs": []
    },
    {
      "cell_type": "markdown",
      "metadata": {},
      "source": [
        "Keys in a dictionary are immutable: you can't change them once they\n",
        "are inserted.  But you can change the values associated with them:"
      ]
    },
    {
      "cell_type": "code",
      "metadata": {},
      "source": [
        "drugs[\"methotrexate\"] = 3.5\n",
        "print(drugs)"
      ],
      "execution_count": null,
      "outputs": []
    },
    {
      "cell_type": "markdown",
      "metadata": {},
      "source": [
        "### Tuples\n",
        "\n",
        "Tuples (or `tuple` objects) construct groups of objects.  These are\n",
        "all tuples:"
      ]
    },
    {
      "cell_type": "code",
      "metadata": {},
      "source": [
        "()               # An empty tuple.\n",
        "(1,)             # A one-item tuple.\n",
        "(0, 'Ni', 3.14)  # A four item tuple."
      ],
      "execution_count": null,
      "outputs": []
    },
    {
      "cell_type": "markdown",
      "metadata": {},
      "source": [
        "Unlike lists, tuples are immutable: you can't change a tuple's\n",
        "elements once the tuple is constructed.  You can use tuples when you\n",
        "need to:\n",
        "\n",
        "- Use a collection of things that remains constant.\n",
        "- Return multiple values from a function. (We'll discuss functions\n",
        "  later.)\n",
        "\n",
        "Tuples can be dictionary keys because they are immutable."
      ]
    },
    {
      "cell_type": "code",
      "metadata": {},
      "source": [
        "locations = {\n",
        "    (40.7128, -74.0060): \"New York\",\n",
        "    (51.5074, -0.1278): \"London\"\n",
        "}"
      ],
      "execution_count": null,
      "outputs": []
    },
    {
      "cell_type": "markdown",
      "metadata": {},
      "source": [
        "The strings that start with `#` are comments.  We will discuss\n",
        "comments later in this notebook.\n",
        "\n",
        "### Sets\n",
        "\n",
        "Sets (or `set` objects) are structures whose elements are unique."
      ]
    },
    {
      "cell_type": "code",
      "metadata": {},
      "source": [
        "{1,2,3}\n",
        "{0, 'Ni', 3.14}"
      ],
      "execution_count": null,
      "outputs": []
    },
    {
      "cell_type": "markdown",
      "metadata": {},
      "source": [
        "If you want to get just the unique elements of a list, you can insert\n",
        "the list to a set!"
      ]
    },
    {
      "cell_type": "code",
      "metadata": {},
      "source": [
        "numbers = [10,1,1,1,1,2,20]\n",
        "unique_numbers = set(numbers)\n",
        "print(unique_numbers)"
      ],
      "execution_count": null,
      "outputs": []
    },
    {
      "cell_type": "markdown",
      "metadata": {},
      "source": [
        "## Operator overloading\n",
        "\n",
        "Operators can have different meaning depending on the types of data\n",
        "they operate on.\n",
        "\n",
        "For example, the `+` operator applied to numbers will result in an\n",
        "addition.  When applied to strings, the `+` operator will concatenate\n",
        "(\"jam together\") them."
      ]
    },
    {
      "cell_type": "code",
      "metadata": {},
      "source": [
        "first_part = \"super\"\n",
        "other_part = \"conducting\"\n",
        "supreme_coolness = first_part + other_part\n",
        "print(supreme_coolness)"
      ],
      "execution_count": null,
      "outputs": []
    },
    {
      "cell_type": "markdown",
      "metadata": {},
      "source": [
        "Notice that it did not insert a space. If you need a space, you have\n",
        "to do it yourself."
      ]
    },
    {
      "cell_type": "code",
      "metadata": {},
      "source": [
        "not_as_cool = first_part + \" \" + other_part\n",
        "print(not_as_cool)"
      ],
      "execution_count": null,
      "outputs": []
    },
    {
      "cell_type": "markdown",
      "metadata": {},
      "source": [
        "### A couple of things to notice\n",
        "\n",
        "First, there are three things being concatenated: a variable, a string\n",
        "\"literal\" with only a single space in it, and another\n",
        "variable. Second, when we evaluate a cell and create a variable in it,\n",
        "those variables become available to every cell further down the line.\n",
        "\n",
        "(If you're curious, there is one instance of Python running behind the\n",
        "scenes. Jupyter just crams code into when you execute a cell. When\n",
        "Python is done running that, any output is put into the notebook right\n",
        "below that block. Running another command later, in another cell,\n",
        "sends that code to the one and only Python instance associated with\n",
        "the entire notebook. There is no need to write insanely long cells,\n",
        "and in fact you should keep them 30-50 lines at most if you\n",
        "can. Shorter cells are easier to understand and debug.\n",
        "\n",
        "## Control flow\n",
        "\n",
        "Python has the same control structures you're used to, such as `if`\n",
        "and `if`/`else`.  It's just that syntax may be a little different now."
      ]
    },
    {
      "cell_type": "code",
      "metadata": {},
      "source": [
        "if 5 > 4 :\n",
        "    print(\"arithmetic still works!\")\n",
        "    print(\"now back to the show!\")\n",
        "else:\n",
        "    print(\"it appears we have shifted universes for a few minutes.\")\n",
        "    print(\"I have a feeling this will be bad.\")"
      ],
      "execution_count": null,
      "outputs": []
    },
    {
      "cell_type": "markdown",
      "metadata": {},
      "source": [
        "Notice that there **is** a `:` (colon) at the end of the `if` line. A\n",
        "colon indicates that a \"code block\" is coming up. In our case, these\n",
        "blocks are two lines long. They have to be indented, and they have to\n",
        "be indented the same amount. In Python, indentation has meaning. The\n",
        "\"visual\" level that things are indented to indicates the \"lexical\"\n",
        "level of the code block.\n",
        "\n",
        "### Loops\n",
        "\n",
        "Python has loops, as expected:"
      ]
    },
    {
      "cell_type": "code",
      "metadata": {},
      "source": [
        "weight = 6.0\n",
        "\n",
        "while weight < 11.2:\n",
        "    print(\"running inside the loop!\")\n",
        "    weight = weight + 4\n",
        "\n",
        "print(\"done with the loop now.\")"
      ],
      "execution_count": null,
      "outputs": []
    },
    {
      "cell_type": "markdown",
      "metadata": {},
      "source": [
        "`while` loops are very versatile: you can test anything to see if you\n",
        "should continue.  Sometimes you know how many times you want to do\n",
        "something and you want a cleaner way to express that.  You would use a\n",
        "`for` loop in such instances."
      ]
    },
    {
      "cell_type": "code",
      "metadata": {},
      "source": [
        "for i in range(1,6):\n",
        "    print(i)\n",
        "    \n",
        "if i == 5:\n",
        "    print(\"we got to 5, like we expected!! Surprise!!\")\n",
        "else:\n",
        "    print(\"hmmm...\")"
      ],
      "execution_count": null,
      "outputs": []
    },
    {
      "cell_type": "markdown",
      "metadata": {},
      "source": [
        "Notice something above: when testing for equality, Python uses `==`\n",
        "operator.  This is just like Java, C, C++, etc.\n",
        "\n",
        "Notice something else: in `range(1,6)` we specified the range to be\n",
        "from 1 to 6, but it stopped after 5. That's how `range()` works: you\n",
        "specify the number to start at and the number that is the first one\n",
        "you want it to stop at. Forgetting this will result in some\n",
        "easy-to-make mistakes.\n",
        "\n",
        "## `for` loops over lists\n",
        "\n",
        "Back to `for` loops for a minute. These loops can also iterate over a\n",
        "list:"
      ]
    },
    {
      "cell_type": "code",
      "metadata": {},
      "source": [
        "for color in [\"red\", \"green\", \"blue\"] :\n",
        "    print(color)"
      ],
      "execution_count": null,
      "outputs": []
    },
    {
      "cell_type": "markdown",
      "metadata": {},
      "source": [
        "In fact, the `range()` function is used to build a list of values and\n",
        "then the `for` loop steps over it.\n",
        "\n",
        "\n",
        "## Functions\n",
        "\n",
        "A function is a reusable piece of code that performs a certain task.\n",
        "When you find yourself writing the same pieces of code over and over,\n",
        "you would \"refactor\" the pieces of repeating code, and put them in a\n",
        "function.  Now you can call the function over and over.\n",
        "\n",
        "Here's how you would create (or \"define\") a function: use the `def`\n",
        "keyword, followed by a space and then the name of the function,\n",
        "followed by the function parameters (or arguments), followed by a `:`,\n",
        "and then the block of code that should perform the thing that you want\n",
        "the function to perform.  If you want to return some value from the\n",
        "function, you would use the `return` keyword.\n",
        "\n",
        "When you want to pass more than one parameter to the function, you\n",
        "would separate them by commas.\n",
        "\n",
        "Here's an example of a function:"
      ]
    },
    {
      "cell_type": "code",
      "metadata": {},
      "source": [
        "import math  # use Python's math module.\n",
        "\n",
        "def area_of_circle(radius):\n",
        "    \"\"\"\n",
        "    Compute area of a circle.\n",
        "\n",
        "    :param radius: radius of the circle.\n",
        "    \"\"\"\n",
        "    result = math.pi * radius ** 2\n",
        "    return result"
      ],
      "execution_count": null,
      "outputs": []
    },
    {
      "cell_type": "markdown",
      "metadata": {},
      "source": [
        "You can call the function like so:"
      ]
    },
    {
      "cell_type": "code",
      "metadata": {},
      "source": [
        "area_of_circle(10)"
      ],
      "execution_count": null,
      "outputs": []
    },
    {
      "cell_type": "markdown",
      "metadata": {},
      "source": [
        "There are two new things here: `import` statements, and code comments.\n",
        "Let us talk about code comments in the next section.  We will talk\n",
        "about `import` statements and importing modules in a later section.\n",
        "\n",
        "\n",
        "## Code comments\n",
        "\n",
        "Did you notice the lines in the cell above that started with a `#`?\n",
        "\n",
        "That `#` character means \"everything on the rest of the line is just a\n",
        "note to myself and should not be run\". These comments are very\n",
        "valuable for reminding yourself (or other readers of your code) about\n",
        "what's going on when you come back to your code three months later and\n",
        "you can't remember anything.  You would use `#` when your comment can\n",
        "be written in one line.\n",
        "\n",
        "You can also write comments that span multiple lines: you would start\n",
        "the comment with a `\"\"\"`, write the comments, and then use another\n",
        "`\"\"\"` to end the comment.\n",
        "\n",
        "Note the comment surrounded by `\"\"\"` that describe the function in\n",
        "(somewhat) detail.  They are called docstrings, and this is a common\n",
        "way to document Python code.\n",
        "\n",
        "When you read the documentation of some libraries (such as NumPy\n",
        "[numpy-reference]), you might be looking at pages generated by\n",
        "processing docstrings that are written along with the code. Python has\n",
        "conventions for writing docstrings, and tools for generating such\n",
        "documentation from docstrings.\n",
        "\n",
        "[numpy-reference]: https://numpy.org/doc/stable/reference/index.html\n",
        "\n",
        "\n",
        "## Classes\n",
        "\n",
        "Python classes can't be too strange to those familiar with C++ or\n",
        "Java.  You would use the `class` keyword to define classes, and an\n",
        "(optional) `__init__()` method (or member function) to create the\n",
        "class constructor.  Note that the first parameter to member functions\n",
        "is the `self` keyword."
      ]
    },
    {
      "cell_type": "code",
      "metadata": {},
      "source": [
        "class Customer:\n",
        "    \"\"\" An example class. \"\"\"\n",
        "    def __init__(self, name, address):\n",
        "        \"\"\"\n",
        "        Constructor.\n",
        "\n",
        "        :param name: name of the customer.\n",
        "        :param address: address of the customer.\n",
        "        \"\"\"\n",
        "        self.name = name\n",
        "        self.address = address\n",
        "\n",
        "    def show(self):\n",
        "        \"\"\" Print the customer's details. \"\"\"\n",
        "        print(self.name + \" lives at \" + self.address)"
      ],
      "execution_count": null,
      "outputs": []
    },
    {
      "cell_type": "markdown",
      "metadata": {},
      "source": [
        "Now you can create objects of the class, and invoke member functions\n",
        "of these object:"
      ]
    },
    {
      "cell_type": "code",
      "metadata": {},
      "source": [
        "c = Customer(\"Bob\", \"1234 Wooded Way\")\n",
        "c.show()"
      ],
      "execution_count": null,
      "outputs": []
    },
    {
      "cell_type": "markdown",
      "metadata": {},
      "source": [
        "We can't go into all the details here, but some basic familiarity with\n",
        "the idea of classes and objects would be helpful when programming with\n",
        "Python. Important data structures `list`, `dict`, `set`, and `tuple`\n",
        "are implemented as classes.\n",
        "\n",
        "\n",
        "## Error handling with exceptions\n",
        "\n",
        "Consider the code below:"
      ]
    },
    {
      "cell_type": "code",
      "metadata": {},
      "source": [
        "total_grams = 100\n",
        "number_of_people = 0\n",
        "individual_portion = total_grams / number_of_people"
      ],
      "execution_count": null,
      "outputs": []
    },
    {
      "cell_type": "markdown",
      "metadata": {},
      "source": [
        "If you run the above cell, it would result in an error, since division\n",
        "by zero is undefined.\n",
        "\n",
        "When an unrecoverable error such as the above occurs, the Python\n",
        "runtime \"raises\" (or \"throws\") an exception.  In the above instance,\n",
        "you would see an exception called `ZeroDivisionError`.  There are\n",
        "other kinds of exceptions too. You also can create your own exception\n",
        "classes because doing so is sometimes useful.\n",
        "\n",
        "Unless exceptions are \"caught\" by an exception handler, your program\n",
        "would exit or behave in ways that you do not want.  In order to do\n",
        "that, you would use a `try`/`except` block, like so:"
      ]
    },
    {
      "cell_type": "code",
      "metadata": {},
      "source": [
        "try:\n",
        "  individual_portion = total_grams / number_of_people\n",
        "except:\n",
        "  print(\"Number of people was zero, no valid answer!\")"
      ],
      "execution_count": null,
      "outputs": []
    },
    {
      "cell_type": "markdown",
      "metadata": {},
      "source": [
        "## Modules\n",
        "\n",
        "We already saw how to use an external definition like `math.pi` when\n",
        "we talked about functions: you do an `import math`, and then use the\n",
        "code in `math` module with `math.pi`.\n",
        "\n",
        "But what are modules?\n",
        "\n",
        "Modules are the _organizational units_ of a Python program.  When you\n",
        "create a Python project, you would split your code into logical units,\n",
        "called _modules_.  You can create and use modules within your own\n",
        "programs, and you can use modules from external libraries.\n",
        "\n",
        "In concrete terms, modules correspond to files.  You would put code\n",
        "that does related things in separate files, somewhat like so:\n",
        "\n",
        "```\n",
        "mypackage/\n",
        "    __init__.py\n",
        "    module1.py\n",
        "    module2.py\n",
        "    subpackage/\n",
        "        __init__.py\n",
        "        submodule1.py\n",
        "```\n",
        "\n",
        "And then you will be able to use these modules elsewhere by importing\n",
        "them.  You would use `import` statements to do this, like so:\n",
        "\n",
        "```python\n",
        "from mypackage import module1\n",
        "from mypackage.subpackage import submodule2 as sm2\n",
        "\n",
        "module1.some_function()\n",
        "sm2.some_other_function()\n",
        "```\n",
        "\n",
        "As shown above, the `as` keyword lets you import modules under a more\n",
        "convenient (perhaps shorter) name.\n",
        "\n",
        "An alternative, but more verbose syntax for importing modules would be\n",
        "this:\n",
        "\n",
        "```python\n",
        "import mypackage\n",
        "\n",
        "mypackage.module1.some_function()\n",
        "mypackage.subpackage.submodule1.some_other_function()\n",
        "```\n",
        "\n",
        "The first way is a little more convenient.\n",
        "\n",
        "\n",
        "## Next steps\n",
        "\n",
        "Now you know just enough Python to be dangerous. \n",
        "\n",
        "An excellent [Python tutorial][tutorial] is available at\n",
        "https://docs.python.org/.  I recommend you bookmark that for handy\n",
        "reference.\n",
        "\n",
        "[tutorial]: https://docs.python.org/3/tutorial/index.html\n",
        "\n",
        "Now that we're at least a threat to ourselves, if not others, let's go\n",
        "to the [next notebook](./3-python-packages.ipynb) and look at Python\n",
        "packages.\n"
      ]
    }
  ],
  "metadata": {
    "kernelspec": {
      "name": "python3",
      "language": "python",
      "display_name": "Python 3 (ipykernel)"
    }
  },
  "nbformat": 4,
  "nbformat_minor": 4
}