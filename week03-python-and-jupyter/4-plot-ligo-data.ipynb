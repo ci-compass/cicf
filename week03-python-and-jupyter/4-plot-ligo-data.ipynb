{
 "cells": [
  {
   "cell_type": "markdown",
   "metadata": {},
   "source": [
    "# Plot LIGO data\n",
    "\n",
    "In this part of the tutorial, let us download some data from the LIGO\n",
    "observatory, and plot it.  \n",
    "\n",
    "Open a new terminal. In the terminal, use `cd` command to change to\n",
    "the directory `~/cicf/week02-python-and-jupyter`:\n",
    "\n",
    "```\n",
    "cd ~/cicf/week02-python-and-jupyter\n",
    "```\n",
    "\n",
    "Now run `wget` with the URL of the data set as its argument:\n",
    "\n",
    "```\n",
    "wget https://gwosc.org/archive/data/S5/814743552/H-H2_LOSC_4_V1-815235072-4096.hdf5\n",
    "```\n",
    "\n",
    "That should download a file `H-H2_LOSC_4_V1-815235072-4096.hdf5`,\n",
    "which is about 123MB in size.  This file is in a format called [HDF5],\n",
    "commonly used to store scientific data.  We will use the Python h5py\n",
    "package that we installed earlier to work with this file.\n",
    "\n",
    "[HDF5]: https://en.wikipedia.org/wiki/Hierarchical_Data_Format\n",
    "\n",
    "Let open this file using the h5py library that we had installed\n",
    "earlier, and explore the data in the file."
   ]
  },
  {
   "cell_type": "code",
   "execution_count": null,
   "metadata": {},
   "outputs": [],
   "source": [
    "import h5py\n",
    "data = h5py.File('H-H2_LOSC_4_V1-815235072-4096.hdf5', 'r')"
   ]
  },
  {
   "cell_type": "markdown",
   "metadata": {},
   "source": [
    "We can look at the dataset:"
   ]
  },
  {
   "cell_type": "code",
   "execution_count": null,
   "metadata": {},
   "outputs": [],
   "source": [
    "for k in data.keys():\n",
    "    print(k)"
   ]
  },
  {
   "cell_type": "markdown",
   "metadata": {},
   "source": [
    "And:"
   ]
  },
  {
   "cell_type": "code",
   "execution_count": null,
   "metadata": {},
   "outputs": [],
   "source": [
    "for k,v in data['meta'].items():\n",
    "    print(k,v)"
   ]
  },
  {
   "cell_type": "markdown",
   "metadata": {},
   "source": [
    "That is not quite what we want:"
   ]
  },
  {
   "cell_type": "code",
   "execution_count": null,
   "metadata": {},
   "outputs": [],
   "source": [
    "for k,v in data['meta'].items():\n",
    "    print(k,v[...])"
   ]
  },
  {
   "cell_type": "markdown",
   "metadata": {},
   "source": [
    "Let us load some of the data into an array, and plot the array using\n",
    "matplotlib:"
   ]
  },
  {
   "cell_type": "code",
   "execution_count": null,
   "metadata": {},
   "outputs": [],
   "source": [
    "import matplotlib.pyplot as plt\n",
    "\n",
    "strain = data['strain']['Strain']\n",
    "N = 5000\n",
    "plt.plot(range(N), strain[:N])"
   ]
  }
 ],
 "metadata": {
  "kernelspec": {
   "display_name": "Python 3 (ipykernel)",
   "language": "python",
   "name": "python3"
  },
  "language_info": {
   "codemirror_mode": {
    "name": "ipython",
    "version": 3
   },
   "file_extension": ".py",
   "mimetype": "text/x-python",
   "name": "python",
   "nbconvert_exporter": "python",
   "pygments_lexer": "ipython3",
   "version": "3.11.2"
  }
 },
 "nbformat": 4,
 "nbformat_minor": 4
}
