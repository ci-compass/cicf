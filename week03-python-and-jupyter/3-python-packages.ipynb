{
  "cells": [
    {
      "cell_type": "markdown",
      "metadata": {},
      "source": [
        "# Python packages\n",
        "\n",
        "Python became very popular in recent years partly because of the\n",
        "thousands of packages available.\n",
        "\n",
        "A \"package\" is a collection of Python code that you can use to\n",
        "accomplish certain tasks.  Packages can contain libraries, application\n",
        "programs, or both.  A Python library is a collection of code that\n",
        "people can use when writing new applications or new libraries.\n",
        "\n",
        "When you install Python, a set of libraries called the [Python\n",
        "standard library][stdlib] also gets installed.  Python is said to be a\n",
        "\"batteries included\" programming language, because its standard\n",
        "library is useful to accomplish many common tasks related to:\n",
        "\n",
        "- Working with text, math, time, dates, etc.;\n",
        "- Working with various data structures (such as lists, dicts, sets,\n",
        "  and tuples);\n",
        "- Reading and writing files;\n",
        "- Reading and writing data from networked systems;\n",
        "- Working with processes and threads;\n",
        "- Working with the operating system; \n",
        "- Debugging and profiling; and\n",
        "- Much more!\n",
        "\n",
        "[stdlib]: https://docs.python.org/3/library/index.html\n",
        "\n",
        "### Python modules and packages\n",
        "\n",
        "We talked a bit about modules in the previous notebook.  Basically:\n",
        "python packages are organized as _modules_, which is essentially a\n",
        "collection of files and directories.  The files mostly contain Python\n",
        "code. Sometimes they can be other kinds of supporting files too.\n",
        "\n",
        "## An example: using `random` module\n",
        "\n",
        "As noted above, when you install Python, you get the Python standard\n",
        "library also, which is a collection of useful modules.  Let us look at\n",
        "an example of generating random numbers using Python standard library.\n",
        "\n",
        "The first thing you have to do is tell Python you want to use a module\n",
        "called `random`, using `import random`.  In order to generate random\n",
        "numbers, we can use the `random()` function from the `random`\n",
        "module. Try running the below code cell:"
      ]
    },
    {
      "cell_type": "code",
      "metadata": {},
      "source": [
        "import random\n",
        "\n",
        "print(random.random())\n",
        "print(random.random())\n",
        "print(random.random())"
      ],
      "execution_count": null,
      "outputs": []
    },
    {
      "cell_type": "markdown",
      "metadata": {},
      "source": [
        "That generates random numbers between zero and one. There are plenty\n",
        "of other functions in the random package to do things like generate\n",
        "random integers between two values or to randomly shuffle the items in\n",
        "a list.\n",
        "\n",
        "To learn details about how to use a library, you will need to read its\n",
        "documentation.  You already know how to find documentation for\n",
        "standard library modules: we have linked to it in the beginning of\n",
        "this notebook.  Those documents might be a little confusing in the\n",
        "beginning, so it is perfectly reasonable to look for friendlier\n",
        "resources.\n",
        "\n",
        "## Another example: using the `requests` library\n",
        "\n",
        "Sometimes using an external package might make things easier.\n",
        "Sometimes when people work on Python code that other people might find\n",
        "useful, they package and publish their work in an installable form.\n",
        "\n",
        "An example package would be the popular `requests` library, which\n",
        "makes interacting with web sites easier.  In order to use `requests`\n",
        "in your code, you would install it (with `pip install requests`\n",
        "perhaps), and then use an `import requests` statement in your program\n",
        "to use modules from the requests library, and then call functions from\n",
        "the module:"
      ]
    },
    {
      "cell_type": "code",
      "metadata": {},
      "source": [
        "import requests\n",
        "\n",
        "response = requests.get(\"https://google.com\")\n",
        "\n",
        "print(\"Respnse status code: \", response.status_code)\n",
        "print(\"Response headers: \", response.headers)\n",
        "print(\"Response text: \", response.text)"
      ],
      "execution_count": null,
      "outputs": []
    },
    {
      "cell_type": "markdown",
      "metadata": {},
      "source": [
        "Note that running the above code cell should work without having to\n",
        "install `requests` library.  This is because `requests` was already\n",
        "installed when you installed `jupyter`, because the authors of\n",
        "`jupyter` decided to use `requests` in their code.\n",
        "\n",
        "You can find [requests library documentation][requests-docs] from its\n",
        "[PyPI][pypi] Python Package Index [project page][requests].\n",
        "\n",
        "[requests]: https://pypi.org/project/requests/\n",
        "[requests-docs]: https://requests.readthedocs.io/en/latest/\n",
        "\n",
        "## The Python Package Index (PyPI)\n",
        "\n",
        "In the beginning of this week's tutorial, we used [pip] to install\n",
        "some Python packages.  What happens when you run `pip install`\n",
        "something though?  How does `pip` find the packages it need to\n",
        "install?\n",
        "\n",
        "[pip]: https://pip.pypa.io/en/stable/\n",
        "\n",
        "By default, `pip` will search the [Python Package Index][pypi] (also\n",
        "known as \"PyPI\") for the package by name, download the appropriate\n",
        "version of the package, and install it in your machine.  If the\n",
        "package depends on other packages, pip would install those other\n",
        "packages also, if they are not already installed.\n",
        "\n",
        "[pypi]: https://pypi.org/\n",
        "\n",
        "PyPI is a large repository of Python packages maintained by the\n",
        "[Python Software Foundation][psf], a non-profit organization that is\n",
        "responsible for development and maintenance of the Python programming\n",
        "language and its infrastructure.\n",
        "\n",
        "[psf]: https://www.python.org/psf-landing/\n",
        "\n",
        "PyPI happens to be Python's official package repository, and the most\n",
        "popular one.  There are other repositories also (such as [TestPyPI]),\n",
        "and you can install packages from those other repositories, should you\n",
        "ever need to do so.  You can even install packages from certain other\n",
        "sources such as their git repositories.\n",
        "\n",
        "[TestPyPI]: https://test.pypi.org/\n",
        "\n",
        "## Anaconda and Conda\n",
        "\n",
        "[Anaconda] is a commercially supported \"Python distribution\".\n",
        "Anaconda provides a curated collection of software that uses a\n",
        "different packaging format, and it is not necessarily tied to just\n",
        "Python.  There are Anaconda packages written in other programming\n",
        "languages also.  Similar to `pip`, `conda` is Anaconda's package\n",
        "manager, and [Anaconda.org] is its package repository.\n",
        "\n",
        "Although we are not going to the details now, Anaconda is popular in\n",
        "science, AI, and data science communities, so they are worth\n",
        "mentioning here.\n",
        "\n",
        "[Anaconda]: https://www.anaconda.com/\n",
        "[Anaconda.org]: https://anaconda.org/\n",
        "\n",
        "\n",
        "## Yet another example: the NumPy package\n",
        "\n",
        "The `math` module is part of the Python standard library.  It\n",
        "implements a routines to calculate few standard functions and some\n",
        "basic probability distributions.  \n",
        "\n",
        "However, since Python's built-in support for numerical calculations is\n",
        "limited in efficiency and performance, people often reach for the\n",
        "famous [NumPy] package. \n",
        "\n",
        "[NumPy]: https://numpy.org/\n",
        "\n",
        "NumPy makes numerically-intensive programming easier and makes code\n",
        "run faster. It brings it's own datatype to the game: an actual array!\n",
        "Numpy's arrays are quite fast -- substantially faster than Python's\n",
        "regular way of representing arrays as \"lists of lists\" (or in three\n",
        "dimensions, \"lists of lists of lists\" and so forth.\n",
        "\n",
        "The critical NumPy data type is the array.  NumPy arrays are faster\n",
        "and more compact than Python lists. A NumPy array consumes less memory\n",
        "and is convenient to use.  You can find an excellent\n",
        "[introduction][numpy-intro] to NumPy in the project's website.\n",
        "\n",
        "[numpy-intro]: https://numpy.org/doc/stable/user/absolute_beginners.html\n",
        "\n",
        "In this notebook, let us work through some NumPy examples.  First,\n",
        "let's tell Python we want to use numpy:"
      ]
    },
    {
      "cell_type": "code",
      "metadata": {},
      "source": [
        "import numpy as np"
      ],
      "execution_count": null,
      "outputs": []
    },
    {
      "cell_type": "markdown",
      "metadata": {},
      "source": [
        "The `as np` part lets us specify a _namespace_, in this case a nice,\n",
        "short name so we don't have to type out `numpy` _every single time_.\n",
        "\n",
        "The one caveat with NumPy arrays is that all the elements inside an\n",
        "array need to have the same data type (e.g. integer, float, double).\n",
        "\n",
        "Now we can create an array or two:"
      ]
    },
    {
      "cell_type": "code",
      "metadata": {},
      "source": [
        "a = np.array([[1,2,3,4], [5,6,7,8], [9,10,11,12]])\n",
        "print(a)"
      ],
      "execution_count": null,
      "outputs": []
    },
    {
      "cell_type": "markdown",
      "metadata": {},
      "source": [
        "The `array()` function will turn nested lists into an array.\n",
        "You can also make new arrays by asking for a zero array of a given size"
      ]
    },
    {
      "cell_type": "code",
      "metadata": {},
      "source": [
        "z = np.zeros(3)\n",
        "print(z)"
      ],
      "execution_count": null,
      "outputs": []
    },
    {
      "cell_type": "markdown",
      "metadata": {},
      "source": [
        "or ones:"
      ]
    },
    {
      "cell_type": "code",
      "metadata": {},
      "source": [
        "m = np.ones((3,3))\n",
        "print(m)"
      ],
      "execution_count": null,
      "outputs": []
    },
    {
      "cell_type": "markdown",
      "metadata": {},
      "source": [
        "(note that the dimensions are given as a _tuple_).\n",
        "\n",
        "You can also element-wise add, subtract, or multiply:"
      ]
    },
    {
      "cell_type": "code",
      "metadata": {},
      "source": [
        "z + 3"
      ],
      "execution_count": null,
      "outputs": []
    },
    {
      "cell_type": "markdown",
      "metadata": {},
      "source": [
        "Or"
      ]
    },
    {
      "cell_type": "code",
      "metadata": {},
      "source": [
        "a % 2"
      ],
      "execution_count": null,
      "outputs": []
    },
    {
      "cell_type": "markdown",
      "metadata": {},
      "source": [
        "Comparisons are element wise"
      ]
    },
    {
      "cell_type": "code",
      "metadata": {},
      "source": [
        "a > 5"
      ],
      "execution_count": null,
      "outputs": []
    },
    {
      "cell_type": "markdown",
      "metadata": {},
      "source": [
        "You can get the dimensions of an array by querying its `.shape`\n",
        "property:"
      ]
    },
    {
      "cell_type": "code",
      "metadata": {},
      "source": [
        "print(a.shape)\n",
        "print(m.shape)\n",
        "print(z.shape)"
      ],
      "execution_count": null,
      "outputs": []
    },
    {
      "cell_type": "markdown",
      "metadata": {},
      "source": [
        "The `shape` property returns us a _tuple_ that tells us how many\n",
        "elements there are in each dimension.  The number of elements in the\n",
        "tuple tells us how many dimensions the array has.\n",
        "\n",
        "### NumPy Linear Algebra\n",
        "\n",
        "Let's do a little bit of linear algebra. NumPy has routines to do\n",
        "basic linear algebra, such as finding a matrix inverse, or solving a\n",
        "linear system.\n",
        "\n",
        "We will need to bring in the [linalg] (\"linear algebra\") part of\n",
        "NumPy, which would be the `numpy.linalg` module.  We will use the name\n",
        "`nl` as a shorthand for `numpy.linalg`.\n",
        "\n",
        "[linalg]: https://numpy.org/doc/stable/reference/routines.linalg.html"
      ]
    },
    {
      "cell_type": "code",
      "metadata": {},
      "source": [
        "import numpy.linalg as nl\n",
        "\n",
        "k = np.array([[1,1,1], [1,1,0], [1,0,0]])\n",
        "\n",
        "kinv = nl.inv(k)\n",
        "kinv"
      ],
      "execution_count": null,
      "outputs": []
    },
    {
      "cell_type": "markdown",
      "metadata": {},
      "source": [
        "Matrix multiplication, anyone? Python has the `@` operator for exactly\n",
        "that:"
      ]
    },
    {
      "cell_type": "code",
      "metadata": {},
      "source": [
        "k @ kinv"
      ],
      "execution_count": null,
      "outputs": []
    },
    {
      "cell_type": "markdown",
      "metadata": {},
      "source": [
        "For a complete list of operators, see: [Mapping Operators to\n",
        "Functions][op-table].\n",
        "\n",
        "[op-table]: http://docs.python.org/library/operator.html#mapping-operators-to-functions\n",
        "\n",
        "## Matrix visualization\n",
        "\n",
        "We can use [matplotlib] to visualize matrices:\n",
        "\n",
        "[matplotlib]: https://matplotlib.org/"
      ]
    },
    {
      "cell_type": "code",
      "metadata": {},
      "source": [
        "import matplotlib.pyplot as plt\n",
        "plt.matshow(a)"
      ],
      "execution_count": null,
      "outputs": []
    },
    {
      "cell_type": "markdown",
      "metadata": {},
      "source": [
        "## Further steps\n",
        "\n",
        "We have only scratched the surface of what numpy can do. Imagine how\n",
        "much the other thousands of Python packages can do!  The nice thing\n",
        "about software development, when it's done correctly, is that pieces\n",
        "build on top of other pieces.\n",
        "\n",
        "The [SciPy] package, for instance, has modules for integration,\n",
        "differentiation, linear algebra, signal processing, image processing\n",
        "(which is special case of signal processing), and so on.  Lots of\n",
        "packages then build on top of SciPy.\n",
        "\n",
        "[SciPy]: https://scipy.org/\n",
        "\n",
        "In the [next notebook](./4-plot-ligo-data.ipynb), we will download\n",
        "some LIGO data and write some code to explore the data."
      ]
    }
  ],
  "metadata": {
    "kernelspec": {
      "name": "python3",
      "language": "python",
      "display_name": "Python 3 (ipykernel)"
    }
  },
  "nbformat": 4,
  "nbformat_minor": 4
}